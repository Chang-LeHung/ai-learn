{
 "cells": [
  {
   "cell_type": "code",
   "execution_count": 1,
   "id": "781f4993",
   "metadata": {},
   "outputs": [
    {
     "name": "stdout",
     "output_type": "stream",
     "text": [
      "Files already downloaded and verified\n",
      "Files already downloaded and verified\n"
     ]
    }
   ],
   "source": [
    "import torch\n",
    "import torch.nn as nn\n",
    "import torch.optim as optim\n",
    "import torchvision\n",
    "import torchvision.transforms as transforms\n",
    "from torchvision.models import vgg16\n",
    "from torchvision import models\n",
    "\n",
    "# 定义数据预处理操作\n",
    "transform = transforms.Compose([\n",
    "    transforms.RandomHorizontalFlip(),\n",
    "#     transforms.RandomCrop(32, padding=4),\n",
    "    transforms.Resize((224, 224)),\n",
    "    transforms.ToTensor(),\n",
    "    transforms.Normalize((0.5, 0.5, 0.5), (0.5, 0.5, 0.5))\n",
    "])\n",
    "\n",
    "# 加载 CIFAR-10 数据集\n",
    "trainset = torchvision.datasets.CIFAR10(root='./data', train=True, download=True, transform=transform)\n",
    "trainloader = torch.utils.data.DataLoader(trainset, batch_size=128, shuffle=True, num_workers=2)\n",
    "\n",
    "testset = torchvision.datasets.CIFAR10(root='./data', train=False, download=True, transform=transform)\n",
    "testloader = torch.utils.data.DataLoader(testset, batch_size=100, shuffle=False, num_workers=2)"
   ]
  },
  {
   "cell_type": "code",
   "execution_count": 2,
   "id": "6e63f905",
   "metadata": {},
   "outputs": [
    {
     "name": "stderr",
     "output_type": "stream",
     "text": [
      "Downloading: \"https://download.pytorch.org/models/resnet152-b121ed2d.pth\" to /home/huchang/.cache/torch/hub/checkpoints/resnet152-b121ed2d.pth\n"
     ]
    },
    {
     "data": {
      "application/vnd.jupyter.widget-view+json": {
       "model_id": "a0e0f1be0d814fcbbb8ae56e57eece79",
       "version_major": 2,
       "version_minor": 0
      },
      "text/plain": [
       "  0%|          | 0.00/230M [00:00<?, ?B/s]"
      ]
     },
     "metadata": {},
     "output_type": "display_data"
    }
   ],
   "source": [
    "model = models.resnet152(pretrained=True)"
   ]
  },
  {
   "cell_type": "code",
   "execution_count": 3,
   "id": "018beba0",
   "metadata": {},
   "outputs": [],
   "source": [
    "model.fc = nn.Linear(2048, 10)"
   ]
  },
  {
   "cell_type": "code",
   "execution_count": 8,
   "id": "5976521e",
   "metadata": {},
   "outputs": [],
   "source": [
    "criterion = nn.CrossEntropyLoss()\n",
    "optimizer = optim.SGD(model.parameters(), lr=0.01, momentum=0.9, weight_decay=5e-4) # 下次测试一下 weight_decay=5e-4\n",
    "# lr_scheduler = optim.lr_scheduler.LambdaLR(optimizer, lr_lambda=[lr_scheduler])\n",
    "lr_scheduler = optim.lr_scheduler.CosineAnnealingLR(optimizer, T_max=400)\n",
    "# 训练模型\n",
    "device = torch.device(\"cuda:0\" if torch.cuda.is_available() else \"cpu\")\n",
    "model = model.to(device)"
   ]
  },
  {
   "cell_type": "code",
   "execution_count": 9,
   "id": "baa8b23d",
   "metadata": {},
   "outputs": [],
   "source": [
    "best_acc = .9"
   ]
  },
  {
   "cell_type": "code",
   "execution_count": 10,
   "id": "dcb3f533",
   "metadata": {},
   "outputs": [],
   "source": [
    "# 定义辅助函数计算正确率\n",
    "def calculate_accuracy(outputs, labels):\n",
    "    _, predicted = torch.max(outputs, 1)\n",
    "    total = labels.size(0)\n",
    "    correct = (predicted == labels).sum().item()\n",
    "    accuracy = correct / total * 100\n",
    "    return accuracy"
   ]
  },
  {
   "cell_type": "code",
   "execution_count": null,
   "id": "513f83a6",
   "metadata": {},
   "outputs": [
    {
     "name": "stdout",
     "output_type": "stream",
     "text": [
      "Epoch=1 Step[ 20/391] loss: 0.027, train accuracy: 99.22 %\n",
      "Epoch=1 Step[ 40/391] loss: 0.003, train accuracy: 100.00 %\n",
      "Epoch=1 Step[ 60/391] loss: 0.004, train accuracy: 100.00 %\n",
      "Epoch=1 Step[ 80/391] loss: 0.005, train accuracy: 100.00 %\n",
      "Epoch=1 Step[100/391] loss: 0.003, train accuracy: 100.00 %\n",
      "Epoch=1 Step[120/391] loss: 0.005, train accuracy: 100.00 %\n",
      "Epoch=1 Step[140/391] loss: 0.012, train accuracy: 100.00 %\n",
      "Epoch=1 Step[160/391] loss: 0.001, train accuracy: 100.00 %\n",
      "Epoch=1 Step[180/391] loss: 0.015, train accuracy: 100.00 %\n",
      "Epoch=1 Step[200/391] loss: 0.005, train accuracy: 100.00 %\n",
      "Epoch=1 Step[220/391] loss: 0.033, train accuracy: 99.22 %\n",
      "Epoch=1 Step[240/391] loss: 0.041, train accuracy: 98.44 %\n",
      "Epoch=1 Step[260/391] loss: 0.048, train accuracy: 96.88 %\n",
      "Epoch=1 Step[280/391] loss: 0.014, train accuracy: 99.22 %\n",
      "Epoch=1 Step[300/391] loss: 0.014, train accuracy: 99.22 %\n",
      "Epoch=1 Step[320/391] loss: 0.008, train accuracy: 100.00 %\n",
      "Epoch=1 Step[340/391] loss: 0.027, train accuracy: 99.22 %\n",
      "Epoch=1 Step[360/391] loss: 0.021, train accuracy: 99.22 %\n",
      "Epoch=1 Step[380/391] loss: 0.014, train accuracy: 99.22 %\n",
      "Epoch = 1, Trainning accuracy = 99.65%\n",
      "Epoch = 1, Testing accuracy: 96.70 %\n",
      "Epoch=2 Step[ 20/391] loss: 0.005, train accuracy: 100.00 %\n",
      "Epoch=2 Step[ 40/391] loss: 0.014, train accuracy: 100.00 %\n",
      "Epoch=2 Step[ 60/391] loss: 0.016, train accuracy: 99.22 %\n",
      "Epoch=2 Step[ 80/391] loss: 0.019, train accuracy: 99.22 %\n",
      "Epoch=2 Step[100/391] loss: 0.017, train accuracy: 99.22 %\n",
      "Epoch=2 Step[120/391] loss: 0.002, train accuracy: 100.00 %\n",
      "Epoch=2 Step[140/391] loss: 0.003, train accuracy: 100.00 %\n",
      "Epoch=2 Step[160/391] loss: 0.013, train accuracy: 100.00 %\n",
      "Epoch=2 Step[180/391] loss: 0.021, train accuracy: 99.22 %\n",
      "Epoch=2 Step[200/391] loss: 0.003, train accuracy: 100.00 %\n",
      "Epoch=2 Step[220/391] loss: 0.007, train accuracy: 100.00 %\n",
      "Epoch=2 Step[240/391] loss: 0.001, train accuracy: 100.00 %\n",
      "Epoch=2 Step[260/391] loss: 0.001, train accuracy: 100.00 %\n",
      "Epoch=2 Step[280/391] loss: 0.006, train accuracy: 100.00 %\n",
      "Epoch=2 Step[300/391] loss: 0.013, train accuracy: 99.22 %\n",
      "Epoch=2 Step[320/391] loss: 0.006, train accuracy: 100.00 %\n",
      "Epoch=2 Step[340/391] loss: 0.018, train accuracy: 98.44 %\n",
      "Epoch=2 Step[360/391] loss: 0.016, train accuracy: 99.22 %\n",
      "Epoch=2 Step[380/391] loss: 0.002, train accuracy: 100.00 %\n",
      "Epoch = 2, Trainning accuracy = 99.54%\n",
      "Epoch = 2, Testing accuracy: 96.87 %\n",
      "Epoch=3 Step[ 20/391] loss: 0.042, train accuracy: 98.44 %\n",
      "Epoch=3 Step[ 40/391] loss: 0.015, train accuracy: 99.22 %\n",
      "Epoch=3 Step[ 60/391] loss: 0.010, train accuracy: 99.22 %\n",
      "Epoch=3 Step[ 80/391] loss: 0.001, train accuracy: 100.00 %\n",
      "Epoch=3 Step[100/391] loss: 0.009, train accuracy: 100.00 %\n",
      "Epoch=3 Step[120/391] loss: 0.024, train accuracy: 98.44 %\n",
      "Epoch=3 Step[140/391] loss: 0.009, train accuracy: 100.00 %\n",
      "Epoch=3 Step[160/391] loss: 0.013, train accuracy: 100.00 %\n",
      "Epoch=3 Step[180/391] loss: 0.007, train accuracy: 99.22 %\n",
      "Epoch=3 Step[200/391] loss: 0.005, train accuracy: 100.00 %\n",
      "Epoch=3 Step[220/391] loss: 0.002, train accuracy: 100.00 %\n",
      "Epoch=3 Step[240/391] loss: 0.056, train accuracy: 96.09 %\n",
      "Epoch=3 Step[260/391] loss: 0.013, train accuracy: 100.00 %\n",
      "Epoch=3 Step[280/391] loss: 0.019, train accuracy: 99.22 %\n",
      "Epoch=3 Step[300/391] loss: 0.038, train accuracy: 99.22 %\n",
      "Epoch=3 Step[320/391] loss: 0.006, train accuracy: 100.00 %\n",
      "Epoch=3 Step[340/391] loss: 0.032, train accuracy: 99.22 %\n",
      "Epoch=3 Step[360/391] loss: 0.003, train accuracy: 100.00 %\n",
      "Epoch=3 Step[380/391] loss: 0.001, train accuracy: 100.00 %\n",
      "Epoch = 3, Trainning accuracy = 99.55%\n"
     ]
    }
   ],
   "source": [
    "# 开始训练\n",
    "for epoch in range(300):\n",
    "\n",
    "    running_loss = 0.0\n",
    "    train_accuracy = 0.0\n",
    "    s = 0\n",
    "    acc = 0\n",
    "    for i, data in enumerate(trainloader, 0):\n",
    "        inputs, labels = data\n",
    "        inputs = inputs.to(device)\n",
    "        labels = labels.to(device)\n",
    "\n",
    "        optimizer.zero_grad()\n",
    "\n",
    "        outputs = model(inputs)\n",
    "        loss = criterion(outputs, labels)\n",
    "        loss.backward()\n",
    "        optimizer.step()\n",
    "\n",
    "        running_loss += loss.item()\n",
    "\n",
    "        train_accuracy = calculate_accuracy(outputs, labels)\n",
    "        _, predicted = torch.max(outputs, 1)\n",
    "        acc += (predicted == labels).sum().item()\n",
    "        s += len(outputs)\n",
    "        if (i+1) % 20 == 0:\n",
    "            print('Epoch=%d Step[%3d/%d] loss: %.3f, train accuracy: %.2f %%' %\n",
    "              (epoch + 1, i + 1, len(trainloader), loss.item(), train_accuracy))\n",
    "    print(\"Epoch = %d, Trainning accuracy = %.2f%%\"%(epoch+1, acc / s * 100))\n",
    "    test_accuracy = 0.0\n",
    "    total_test_samples = 0\n",
    "    with torch.no_grad():\n",
    "        for data in testloader:\n",
    "            images, labels = data\n",
    "            images = images.to(device)\n",
    "            labels = labels.to(device)\n",
    "            outputs = model(images)\n",
    "            test_accuracy += calculate_accuracy(outputs, labels)\n",
    "            total_test_samples += labels.size(0)\n",
    "    print('Epoch = %d, Testing accuracy: %.2f %%' % (epoch + 1, test_accuracy / total_test_samples * 100))\n",
    "    lr_scheduler.step()\n",
    "    if (test_accuracy / total_test_samples * 100) > best_acc:\n",
    "        best_acc = test_accuracy / total_test_samples * 100\n",
    "        torch.save(model.state_dict(), f\"resnet152-224-cifar10-{best_acc:.2f}.pth\")"
   ]
  },
  {
   "cell_type": "code",
   "execution_count": null,
   "id": "be536240",
   "metadata": {},
   "outputs": [],
   "source": []
  },
  {
   "cell_type": "code",
   "execution_count": null,
   "id": "5deeeb2c",
   "metadata": {},
   "outputs": [],
   "source": []
  }
 ],
 "metadata": {
  "kernelspec": {
   "display_name": "Python 3 (ipykernel)",
   "language": "python",
   "name": "python3"
  },
  "language_info": {
   "codemirror_mode": {
    "name": "ipython",
    "version": 3
   },
   "file_extension": ".py",
   "mimetype": "text/x-python",
   "name": "python",
   "nbconvert_exporter": "python",
   "pygments_lexer": "ipython3",
   "version": "3.8.16"
  },
  "toc": {
   "base_numbering": 1,
   "nav_menu": {},
   "number_sections": true,
   "sideBar": true,
   "skip_h1_title": false,
   "title_cell": "Table of Contents",
   "title_sidebar": "Contents",
   "toc_cell": false,
   "toc_position": {},
   "toc_section_display": true,
   "toc_window_display": false
  },
  "varInspector": {
   "cols": {
    "lenName": 16,
    "lenType": 16,
    "lenVar": 40
   },
   "kernels_config": {
    "python": {
     "delete_cmd_postfix": "",
     "delete_cmd_prefix": "del ",
     "library": "var_list.py",
     "varRefreshCmd": "print(var_dic_list())"
    },
    "r": {
     "delete_cmd_postfix": ") ",
     "delete_cmd_prefix": "rm(",
     "library": "var_list.r",
     "varRefreshCmd": "cat(var_dic_list()) "
    }
   },
   "types_to_exclude": [
    "module",
    "function",
    "builtin_function_or_method",
    "instance",
    "_Feature"
   ],
   "window_display": false
  }
 },
 "nbformat": 4,
 "nbformat_minor": 5
}
